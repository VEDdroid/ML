{
  "metadata": {
    "language_info": {
      "codemirror_mode": {
        "name": "python",
        "version": 3
      },
      "file_extension": ".py",
      "mimetype": "text/x-python",
      "name": "python",
      "nbconvert_exporter": "python",
      "pygments_lexer": "ipython3",
      "version": "3.8"
    },
    "kernelspec": {
      "name": "python",
      "display_name": "Python (Pyodide)",
      "language": "python"
    }
  },
  "nbformat_minor": 4,
  "nbformat": 4,
  "cells": [
    {
      "cell_type": "code",
      "source": "import numpy as np\ndef gradientFunction(x):\n    return 2*x + 6\n\ndef gradientDescent (start, gradient, learnRate, maxIteration, tolerance=0.01):\n    steps = [start]\n    X = start\n    \n    for i in range(maxIteration):\n        diff = learnRate * gradient(X)\n        if np.abs(diff) < tolerance:\n            break\n        X = X - diff\n        steps.append(X)\n    return steps, learnRate, X, len(steps)\nhistory, learnRate, result, steps = gradientDescent(2, gradientFunction, 0.01, 50)\n\nprint(\"\\nSteps in Gradient Descent: \", history)\nprint(\"\\nLearning Rate is: \", learnRate)\nprint(\"\\nNumber of steps required to reach Local Minima: \", steps)\nprint(\"\\nThe Local Minimum occurs at\", result)",
      "metadata": {
        "trusted": true
      },
      "execution_count": 1,
      "outputs": [
        {
          "name": "stdout",
          "text": "\nSteps in Gradient Descent:  [2, 1.9, 1.8019999999999998, 1.70596, 1.6118408, 1.519603984, 1.42921190432, 1.3406276662336, 1.253815112908928, 1.1687388106507495, 1.0853640344377344, 1.0036567537489798, 0.9235836186740002, 0.8451119463005202, 0.7682097073745098, 0.6928455132270196, 0.6189886029624792, 0.5466088309032295, 0.4756766542851649, 0.40616312119946163, 0.3380398587754724, 0.27127906159996296, 0.2058534803679637, 0.14173641076060442, 0.07890168254539233, 0.017323648894484484, -0.04302282408340521, -0.10216236760173711, -0.16011912024970237, -0.21691673784470833, -0.27257840308781417, -0.3271268350260579, -0.38058429832553675, -0.432972612359026, -0.4843131601118455, -0.5346268969096086, -0.5839343589714164, -0.632255671791988, -0.6796105583561483, -0.7260183471890252, -0.7714979802452447, -0.8160680206403399, -0.8597466602275331, -0.9025517270229825, -0.9445006924825228, -0.9856106786328723, -1.025898465060215, -1.0653804957590107, -1.1040728858438305, -1.1419914281269539, -1.1791515995644148]\n\nLearning Rate is:  0.01\n\nNumber of steps required to reach Local Minima:  51\n\nThe Local Minimum occurs at -1.1791515995644148\n",
          "output_type": "stream"
        }
      ]
    }
  ]
}